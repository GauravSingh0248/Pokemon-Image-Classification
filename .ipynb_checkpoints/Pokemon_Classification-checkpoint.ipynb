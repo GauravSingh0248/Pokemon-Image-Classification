{
 "cells": [
  {
   "cell_type": "code",
   "execution_count": 11,
   "id": "8d67a50e-af05-4041-bc60-aa740d547ac4",
   "metadata": {},
   "outputs": [],
   "source": [
    "import numpy as np\n",
    "import pandas as pd\n",
    "import matplotlib.pyplot as plt\n",
    "import os\n",
    "     "
   ]
  },
  {
   "cell_type": "code",
   "execution_count": 21,
   "id": "f2d95875-09a6-4aea-bfbd-ecae53f14e99",
   "metadata": {},
   "outputs": [
    {
     "data": {
      "text/plain": [
       "['Bulbasaur', 'Charmander', 'Pikachu']"
      ]
     },
     "execution_count": 21,
     "metadata": {},
     "output_type": "execute_result"
    }
   ],
   "source": [
    "classes=os.listdir(\"images/Train\")\n",
    "classes"
   ]
  },
  {
   "cell_type": "code",
   "execution_count": 33,
   "id": "510699ca-cc5e-45d4-9f0f-25c3fcc35edd",
   "metadata": {},
   "outputs": [
    {
     "name": "stdout",
     "output_type": "stream",
     "text": [
      "Training Data :\n",
      "Bulbasaur-101\n",
      "Charmander-102\n",
      "Pikachu-101\n"
     ]
    }
   ],
   "source": [
    "print(\"Training Data :\")\n",
    "for f in classes:\n",
    "    path=\"images/Train/\"+f\n",
    "    length=len(os.listdir(path))\n",
    "    print(f\"{f}-{length}\")"
   ]
  },
  {
   "cell_type": "code",
   "execution_count": 35,
   "id": "29baf39d-847a-4519-96c7-8646c91a585f",
   "metadata": {},
   "outputs": [
    {
     "name": "stdout",
     "output_type": "stream",
     "text": [
      "Training Test :\n",
      "Bulbasaur-41\n",
      "Charmander-42\n",
      "Pikachu-41\n"
     ]
    }
   ],
   "source": [
    "print(\"Training Test :\")\n",
    "for f in classes:\n",
    "    path=\"images/Test/\"+f\n",
    "    length=len(os.listdir(path))\n",
    "    print(f\"{f}-{length}\")"
   ]
  },
  {
   "cell_type": "markdown",
   "id": "07ca6164-c17e-458d-9319-cab4f788d622",
   "metadata": {},
   "source": [
    "# ==== Data Loading  ===="
   ]
  },
  {
   "cell_type": "code",
   "execution_count": 64,
   "id": "c2f3516a-4f10-40d3-8c74-feefa920659c",
   "metadata": {},
   "outputs": [],
   "source": [
    "from keras_preprocessing import image"
   ]
  },
  {
   "cell_type": "code",
   "execution_count": 72,
   "id": "dc5e9ebb-83e4-44c1-abfb-abe14bf1a1ad",
   "metadata": {},
   "outputs": [
    {
     "data": {
      "text/plain": [
       "(100, 100, 3)"
      ]
     },
     "execution_count": 72,
     "metadata": {},
     "output_type": "execute_result"
    }
   ],
   "source": [
    "# path=\"images/Train/Pikachu/300.jpg\"\n",
    "# img=image.load_img(path,target_size=(100,100))\n",
    "# img=image.img_to_array(img)\n",
    "# # img.shape\n",
    "# train_data.append(img) // and that goes for every n images "
   ]
  },
  {
   "cell_type": "code",
   "execution_count": 146,
   "id": "ce2ffa3c-7989-4b7a-8062-4acd10fb9701",
   "metadata": {},
   "outputs": [
    {
     "name": "stderr",
     "output_type": "stream",
     "text": [
      "C:\\ProgramData\\anaconda3\\Lib\\site-packages\\PIL\\Image.py:1056: UserWarning: Palette images with Transparency expressed in bytes should be converted to RGBA images\n",
      "  warnings.warn(\n"
     ]
    }
   ],
   "source": [
    "\n",
    "train_data = [] # X\n",
    "train_labels = [] # Y\n",
    "\n",
    "for category in classes:\n",
    "    folder = f\"images/Train/{category}\"\n",
    "    for img_name in os .listdir(folder):\n",
    "        img_path = f\"{folder}/{img_name}\" #f string\n",
    "        \n",
    "        img = image.load_img(img_path, target_size=(100,100))\n",
    "        img = image.img_to_array(img)\n",
    "        train_data.append(img)\n",
    "        train_labels.append(category)"
   ]
  },
  {
   "cell_type": "code",
   "execution_count": 147,
   "id": "f2f94eef-c523-4ef6-a441-2b4ef2dad7c2",
   "metadata": {},
   "outputs": [
    {
     "data": {
      "text/plain": [
       "304"
      ]
     },
     "execution_count": 147,
     "metadata": {},
     "output_type": "execute_result"
    }
   ],
   "source": [
    "len(train_labels)"
   ]
  },
  {
   "cell_type": "code",
   "execution_count": 148,
   "id": "c3d2beb7-14e7-4422-974d-2e53d7856eb8",
   "metadata": {},
   "outputs": [
    {
     "data": {
      "text/plain": [
       "304"
      ]
     },
     "execution_count": 148,
     "metadata": {},
     "output_type": "execute_result"
    }
   ],
   "source": [
    "len(train_labels)"
   ]
  },
  {
   "cell_type": "markdown",
   "id": "d46e9356-a801-4ccf-81c5-064fd0d0c759",
   "metadata": {},
   "source": [
    "# Data Preprocessing"
   ]
  },
  {
   "cell_type": "code",
   "execution_count": 150,
   "id": "1d991f0a-711b-4c6b-ba24-ed482994cc2c",
   "metadata": {},
   "outputs": [],
   "source": [
    "train_data = np.array(train_data)\n",
    "train_labels = np.array(train_labels)"
   ]
  },
  {
   "cell_type": "code",
   "execution_count": 159,
   "id": "2fd1bae0-4169-4714-ac8f-6f8acb58a9da",
   "metadata": {},
   "outputs": [
    {
     "data": {
      "text/plain": [
       "(304, 30000)"
      ]
     },
     "execution_count": 159,
     "metadata": {},
     "output_type": "execute_result"
    }
   ],
   "source": [
    "train_data = train_data.reshape(len(train_data), 30000)\n",
    "train_data.shape"
   ]
  },
  {
   "cell_type": "code",
   "execution_count": 161,
   "id": "f0803d05-a33b-4d39-8b39-611057a1182e",
   "metadata": {},
   "outputs": [],
   "source": [
    "category2label = {'Pikachu':0, 'Charmander':1, 'Bulbasaur':2}\n",
    "label2category = {0: 'Pikachu', 1: 'Charmander', 2:'Bulbasaur'}"
   ]
  },
  {
   "cell_type": "code",
   "execution_count": 163,
   "id": "64d3470b-ae5c-4701-bbae-ae505e3026c1",
   "metadata": {},
   "outputs": [],
   "source": [
    "train_labels = np.array([category2label[label] for label in train_labels])"
   ]
  },
  {
   "cell_type": "code",
   "execution_count": 165,
   "id": "cd2994af-80a7-44bc-8c9d-5ff78ca4fd2c",
   "metadata": {},
   "outputs": [
    {
     "data": {
      "text/plain": [
       "(304,)"
      ]
     },
     "execution_count": 165,
     "metadata": {},
     "output_type": "execute_result"
    }
   ],
   "source": [
    "train_labels.shape"
   ]
  },
  {
   "cell_type": "code",
   "execution_count": 167,
   "id": "d47a27cf-bb7a-4504-95f2-ff0a8c3556a0",
   "metadata": {},
   "outputs": [
    {
     "data": {
      "text/plain": [
       "array([2, 2, 2, 2, 2, 2, 2, 2, 2, 2, 2, 2, 2, 2, 2, 2, 2, 2, 2, 2, 2, 2,\n",
       "       2, 2, 2, 2, 2, 2, 2, 2, 2, 2, 2, 2, 2, 2, 2, 2, 2, 2, 2, 2, 2, 2,\n",
       "       2, 2, 2, 2, 2, 2, 2, 2, 2, 2, 2, 2, 2, 2, 2, 2, 2, 2, 2, 2, 2, 2,\n",
       "       2, 2, 2, 2, 2, 2, 2, 2, 2, 2, 2, 2, 2, 2, 2, 2, 2, 2, 2, 2, 2, 2,\n",
       "       2, 2, 2, 2, 2, 2, 2, 2, 2, 2, 2, 2, 2, 1, 1, 1, 1, 1, 1, 1, 1, 1,\n",
       "       1, 1, 1, 1, 1, 1, 1, 1, 1, 1, 1, 1, 1, 1, 1, 1, 1, 1, 1, 1, 1, 1,\n",
       "       1, 1, 1, 1, 1, 1, 1, 1, 1, 1, 1, 1, 1, 1, 1, 1, 1, 1, 1, 1, 1, 1,\n",
       "       1, 1, 1, 1, 1, 1, 1, 1, 1, 1, 1, 1, 1, 1, 1, 1, 1, 1, 1, 1, 1, 1,\n",
       "       1, 1, 1, 1, 1, 1, 1, 1, 1, 1, 1, 1, 1, 1, 1, 1, 1, 1, 1, 1, 1, 1,\n",
       "       1, 1, 1, 1, 1, 0, 0, 0, 0, 0, 0, 0, 0, 0, 0, 0, 0, 0, 0, 0, 0, 0,\n",
       "       0, 0, 0, 0, 0, 0, 0, 0, 0, 0, 0, 0, 0, 0, 0, 0, 0, 0, 0, 0, 0, 0,\n",
       "       0, 0, 0, 0, 0, 0, 0, 0, 0, 0, 0, 0, 0, 0, 0, 0, 0, 0, 0, 0, 0, 0,\n",
       "       0, 0, 0, 0, 0, 0, 0, 0, 0, 0, 0, 0, 0, 0, 0, 0, 0, 0, 0, 0, 0, 0,\n",
       "       0, 0, 0, 0, 0, 0, 0, 0, 0, 0, 0, 0, 0, 0, 0, 0, 0, 0])"
      ]
     },
     "execution_count": 167,
     "metadata": {},
     "output_type": "execute_result"
    }
   ],
   "source": [
    "from keras.utils import to_categorical\n",
    "train_labels"
   ]
  },
  {
   "cell_type": "code",
   "execution_count": 169,
   "id": "8e1a622e-f8c9-4e2b-b884-d75863c9fbb2",
   "metadata": {},
   "outputs": [],
   "source": [
    "train_labels = to_categorical(train_labels) # one hot encoding OHT -- must be done for multi level classification"
   ]
  },
  {
   "cell_type": "code",
   "execution_count": 140,
   "id": "59b30d15-1595-491c-a852-0deaf7accb9f",
   "metadata": {},
   "outputs": [
    {
     "data": {
      "text/plain": [
       "(304, 3)"
      ]
     },
     "execution_count": 140,
     "metadata": {},
     "output_type": "execute_result"
    }
   ],
   "source": [
    "train_labels.shape"
   ]
  },
  {
   "cell_type": "code",
   "execution_count": 142,
   "id": "533ea883-2bc4-481b-bbd3-0400ab5559cd",
   "metadata": {},
   "outputs": [
    {
     "data": {
      "text/plain": [
       "array([[0., 0., 1.],\n",
       "       [0., 0., 1.],\n",
       "       [0., 0., 1.],\n",
       "       [0., 0., 1.],\n",
       "       [0., 0., 1.]])"
      ]
     },
     "execution_count": 142,
     "metadata": {},
     "output_type": "execute_result"
    }
   ],
   "source": [
    "train_labels[:5]"
   ]
  },
  {
   "cell_type": "code",
   "execution_count": 173,
   "id": "ecb9a916-6a9f-4e3d-8171-be0192140d9e",
   "metadata": {},
   "outputs": [
    {
     "data": {
      "text/plain": [
       "array([[1., 0., 0.],\n",
       "       [1., 0., 0.],\n",
       "       [1., 0., 0.],\n",
       "       [1., 0., 0.],\n",
       "       [1., 0., 0.]])"
      ]
     },
     "execution_count": 173,
     "metadata": {},
     "output_type": "execute_result"
    }
   ],
   "source": [
    "train_labels[-5:]"
   ]
  },
  {
   "cell_type": "code",
   "execution_count": null,
   "id": "fa8c23d9-e84e-4443-b6ca-de16244a29a2",
   "metadata": {},
   "outputs": [],
   "source": []
  },
  {
   "cell_type": "markdown",
   "id": "1c5c3aff-8865-42ca-9cef-1f28322640db",
   "metadata": {},
   "source": [
    "# Model Architecture"
   ]
  },
  {
   "cell_type": "code",
   "execution_count": 176,
   "id": "5a16ac01-812a-4cce-a600-0f8b77c104a8",
   "metadata": {},
   "outputs": [],
   "source": [
    "from keras.layers import Dense\n",
    "from keras import Sequential"
   ]
  },
  {
   "cell_type": "code",
   "execution_count": null,
   "id": "cbbf375c-472e-4ccf-ac94-3a846f90409c",
   "metadata": {},
   "outputs": [],
   "source": [
    "features = train_data.shape[1]"
   ]
  },
  {
   "cell_type": "code",
   "execution_count": null,
   "id": "8e6650b9-1ef0-4616-876e-034ef0bb6053",
   "metadata": {},
   "outputs": [],
   "source": [
    "model = Sequential()\n",
    "model.add( Dense(units=512, activation='relu', input_shape=(features,)) )\n",
    "model.add( Dense(units=256, activation='relu' ) )\n",
    "model.add( Dense(units=128, activation='relu' ) )\n",
    "model.add( Dense(units=64, activation='relu' ) )\n",
    "model.add( Dense(units=3, activation='softmax' ) )\n",
    "\n",
    "model.compile(optimizer = \"adam\", loss=\"categorical_crossentropy\", metrics=['accuracy'] )"
   ]
  },
  {
   "cell_type": "code",
   "execution_count": null,
   "id": "4ab48665-5a55-4711-ac13-5b4c3a1b568c",
   "metadata": {},
   "outputs": [],
   "source": [
    "model.summary()"
   ]
  },
  {
   "cell_type": "code",
   "execution_count": null,
   "id": "47c88558-ecb0-4211-b522-1656a07416f7",
   "metadata": {},
   "outputs": [],
   "source": [
    "model.fit(train_data, train_labels, batch_size=32, epochs=50)"
   ]
  },
  {
   "cell_type": "code",
   "execution_count": null,
   "id": "e7ec0a07-6173-4d97-8301-4626512f561d",
   "metadata": {},
   "outputs": [],
   "source": []
  },
  {
   "cell_type": "markdown",
   "id": "184dcb58-8fe8-4147-a2cf-7567610bca6e",
   "metadata": {},
   "source": [
    "# Test data"
   ]
  },
  {
   "cell_type": "code",
   "execution_count": null,
   "id": "395fa3aa-53c8-4354-bd35-8216252252c3",
   "metadata": {},
   "outputs": [],
   "source": []
  },
  {
   "cell_type": "code",
   "execution_count": 179,
   "id": "88f0b2a2-24dc-4ecf-a403-0ea52add7261",
   "metadata": {},
   "outputs": [
    {
     "ename": "PermissionError",
     "evalue": "[Errno 13] Permission denied: 'images/Test/Pikachu/.ipynb_checkpoints'",
     "output_type": "error",
     "traceback": [
      "\u001b[1;31m---------------------------------------------------------------------------\u001b[0m",
      "\u001b[1;31mPermissionError\u001b[0m                           Traceback (most recent call last)",
      "Cell \u001b[1;32mIn[179], line 9\u001b[0m\n\u001b[0;32m      6\u001b[0m \u001b[38;5;28;01mfor\u001b[39;00m img_name \u001b[38;5;129;01min\u001b[39;00m os\u001b[38;5;241m.\u001b[39mlistdir(folder):\n\u001b[0;32m      7\u001b[0m     img_path \u001b[38;5;241m=\u001b[39m \u001b[38;5;124mf\u001b[39m\u001b[38;5;124m\"\u001b[39m\u001b[38;5;132;01m{\u001b[39;00mfolder\u001b[38;5;132;01m}\u001b[39;00m\u001b[38;5;124m/\u001b[39m\u001b[38;5;132;01m{\u001b[39;00mimg_name\u001b[38;5;132;01m}\u001b[39;00m\u001b[38;5;124m\"\u001b[39m\n\u001b[1;32m----> 9\u001b[0m     img \u001b[38;5;241m=\u001b[39m image\u001b[38;5;241m.\u001b[39mload_img(img_path, target_size\u001b[38;5;241m=\u001b[39m(\u001b[38;5;241m100\u001b[39m,\u001b[38;5;241m100\u001b[39m))\n\u001b[0;32m     10\u001b[0m     img \u001b[38;5;241m=\u001b[39m image\u001b[38;5;241m.\u001b[39mimg_to_array(img)\n\u001b[0;32m     11\u001b[0m     test_data\u001b[38;5;241m.\u001b[39mappend(img)\n",
      "File \u001b[1;32m~\\AppData\\Roaming\\Python\\Python312\\site-packages\\keras_preprocessing\\image\\utils.py:113\u001b[0m, in \u001b[0;36mload_img\u001b[1;34m(path, grayscale, color_mode, target_size, interpolation)\u001b[0m\n\u001b[0;32m    110\u001b[0m \u001b[38;5;28;01mif\u001b[39;00m pil_image \u001b[38;5;129;01mis\u001b[39;00m \u001b[38;5;28;01mNone\u001b[39;00m:\n\u001b[0;32m    111\u001b[0m     \u001b[38;5;28;01mraise\u001b[39;00m \u001b[38;5;167;01mImportError\u001b[39;00m(\u001b[38;5;124m'\u001b[39m\u001b[38;5;124mCould not import PIL.Image. \u001b[39m\u001b[38;5;124m'\u001b[39m\n\u001b[0;32m    112\u001b[0m                       \u001b[38;5;124m'\u001b[39m\u001b[38;5;124mThe use of `load_img` requires PIL.\u001b[39m\u001b[38;5;124m'\u001b[39m)\n\u001b[1;32m--> 113\u001b[0m \u001b[38;5;28;01mwith\u001b[39;00m \u001b[38;5;28mopen\u001b[39m(path, \u001b[38;5;124m'\u001b[39m\u001b[38;5;124mrb\u001b[39m\u001b[38;5;124m'\u001b[39m) \u001b[38;5;28;01mas\u001b[39;00m f:\n\u001b[0;32m    114\u001b[0m     img \u001b[38;5;241m=\u001b[39m pil_image\u001b[38;5;241m.\u001b[39mopen(io\u001b[38;5;241m.\u001b[39mBytesIO(f\u001b[38;5;241m.\u001b[39mread()))\n\u001b[0;32m    115\u001b[0m     \u001b[38;5;28;01mif\u001b[39;00m color_mode \u001b[38;5;241m==\u001b[39m \u001b[38;5;124m'\u001b[39m\u001b[38;5;124mgrayscale\u001b[39m\u001b[38;5;124m'\u001b[39m:\n\u001b[0;32m    116\u001b[0m         \u001b[38;5;66;03m# if image is not already an 8-bit, 16-bit or 32-bit grayscale image\u001b[39;00m\n\u001b[0;32m    117\u001b[0m         \u001b[38;5;66;03m# convert it to an 8-bit grayscale image.\u001b[39;00m\n",
      "\u001b[1;31mPermissionError\u001b[0m: [Errno 13] Permission denied: 'images/Test/Pikachu/.ipynb_checkpoints'"
     ]
    }
   ],
   "source": [
    "test_data = [] # X\n",
    "test_labels = [] # Y\n",
    "\n",
    "for category in classes:\n",
    "    folder = f\"images/Test/{category}\"\n",
    "    for img_name in os.listdir(folder):\n",
    "        img_path = f\"{folder}/{img_name}\"\n",
    "        \n",
    "        img = image.load_img(img_path, target_size=(100,100))\n",
    "        img = image.img_to_array(img)\n",
    "        test_data.append(img)\n",
    "        test_labels.append(category)"
   ]
  },
  {
   "cell_type": "code",
   "execution_count": null,
   "id": "49718243-10b4-43f8-99be-e3b5e712bdee",
   "metadata": {},
   "outputs": [],
   "source": [
    "len(test_data)"
   ]
  },
  {
   "cell_type": "code",
   "execution_count": null,
   "id": "43c91998-cd49-4e28-809a-12da87d1bf90",
   "metadata": {},
   "outputs": [],
   "source": [
    "test_data = np.array(test_data)\n",
    "test_labels = np.array(test_labels)"
   ]
  },
  {
   "cell_type": "code",
   "execution_count": null,
   "id": "07bcb378-e7ac-46db-ad66-89774d819d03",
   "metadata": {},
   "outputs": [],
   "source": [
    "test_data.shape"
   ]
  },
  {
   "cell_type": "code",
   "execution_count": null,
   "id": "bc8a55ac-c323-46a0-8b2b-4f069f841c5c",
   "metadata": {},
   "outputs": [],
   "source": [
    "# test_labels"
   ]
  },
  {
   "cell_type": "code",
   "execution_count": 181,
   "id": "2c6796d8-d0d7-4cdf-ab26-bdd4dd57ee88",
   "metadata": {},
   "outputs": [
    {
     "data": {
      "text/plain": [
       "(83, 3)"
      ]
     },
     "execution_count": 181,
     "metadata": {},
     "output_type": "execute_result"
    }
   ],
   "source": [
    "test_labels = np.array([category2label[label] for label in test_labels])\n",
    "test_labels = to_categorical(test_labels)\n",
    "test_labels.shape"
   ]
  },
  {
   "cell_type": "code",
   "execution_count": null,
   "id": "8e8c5fe6-cac9-4fc0-bb35-7515c48bfa7a",
   "metadata": {},
   "outputs": [],
   "source": []
  },
  {
   "cell_type": "code",
   "execution_count": null,
   "id": "7affaa94-ccf7-46c4-8068-95f4641cf78e",
   "metadata": {},
   "outputs": [],
   "source": []
  },
  {
   "cell_type": "code",
   "execution_count": null,
   "id": "032a1a76-e7ec-4443-8b8f-a2cf368880be",
   "metadata": {},
   "outputs": [],
   "source": []
  },
  {
   "cell_type": "code",
   "execution_count": null,
   "id": "10dd35ce-c2b1-409d-a0cc-d20d4f968eee",
   "metadata": {},
   "outputs": [],
   "source": []
  },
  {
   "cell_type": "code",
   "execution_count": null,
   "id": "0a2cf14c-b9d6-4609-98d6-b8f2987d255a",
   "metadata": {},
   "outputs": [],
   "source": []
  },
  {
   "cell_type": "markdown",
   "id": "6dac4264-fce8-4042-9418-d5cf81e1f8f6",
   "metadata": {},
   "source": [
    "# for any doubt mail at officialgaurav0408@gmail.com "
   ]
  },
  {
   "cell_type": "code",
   "execution_count": null,
   "id": "857c9bdf-5c59-40cd-b908-8f6aa3b09196",
   "metadata": {},
   "outputs": [],
   "source": []
  }
 ],
 "metadata": {
  "kernelspec": {
   "display_name": "Python [conda env:base] *",
   "language": "python",
   "name": "conda-base-py"
  },
  "language_info": {
   "codemirror_mode": {
    "name": "ipython",
    "version": 3
   },
   "file_extension": ".py",
   "mimetype": "text/x-python",
   "name": "python",
   "nbconvert_exporter": "python",
   "pygments_lexer": "ipython3",
   "version": "3.12.7"
  }
 },
 "nbformat": 4,
 "nbformat_minor": 5
}
